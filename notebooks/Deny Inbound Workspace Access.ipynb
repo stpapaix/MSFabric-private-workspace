{
 "cells": [
  {
   "cell_type": "code",
   "execution_count": null,
   "id": "bdd27141-1cac-4b31-bbed-73aeb4fa72b2",
   "metadata": {
    "microsoft": {
     "language": "python",
     "language_group": "synapse_pyspark"
    }
   },
   "outputs": [],
   "source": [
    "# Verification de l'etat des authorisation Inbound et Outbound d'un Workspace\n",
    "from notebookutils import mssparkutils\n",
    "import requests\n",
    "\n",
    "\n",
    "WID = \"xxxxxxxx-xxxx-xxxx-xxxx-xxxxxxxxxxxx\"\n",
    "\n",
    "# Recuperation du token\n",
    "token = mssparkutils.credentials.getToken(\"https://api.fabric.microsoft.com\")\n",
    "\n",
    "# Contruction du header\n",
    "h = {\"Authorization\": f\"Bearer {token}\", \"Content-Type\":\"application/json\"}\n",
    "\n",
    "# Test GET (reponse 200 attendue)\n",
    "get_request = requests.get(f\"https://api.fabric.microsoft.com/v1/workspaces/{WID}/networking/communicationPolicy\", headers=h)\n",
    "print(get_request.status_code, get_request.text)\n",
    "\n",
    "\n"
   ]
  },
  {
   "cell_type": "code",
   "execution_count": null,
   "id": "d3ae74e0-1de0-452c-8e4b-4c78fed5911c",
   "metadata": {
    "microsoft": {
     "language": "python",
     "language_group": "synapse_pyspark"
    }
   },
   "outputs": [],
   "source": [
    "# Modification des authorisation Inbound et Outbound d'un Workspace\n",
    "from notebookutils import mssparkutils\n",
    "import requests, json, time\n",
    "\n",
    "WID = \"xxxxxxxx-xxxx-xxxx-xxxx-xxxxxxxxxxxx\"\n",
    "\n",
    "# Valeur cible Inbound defaultvalue\n",
    "target_inbound_value = \"Deny\"\n",
    "\n",
    "# Recuperation du token Fabric API\n",
    "token = mssparkutils.credentials.getToken(\"https://api.fabric.microsoft.com\")\n",
    "\n",
    "# Contruction du header\n",
    "h = {\"Authorization\": f\"Bearer {token}\", \"Content-Type\":\"application/json\"}\n",
    "\n",
    "# Recupèration de la policy actuelle\n",
    "current_policy = requests.get(\n",
    "    f\"https://api.fabric.microsoft.com/v1/workspaces/{WID}/networking/communicationPolicy\", \n",
    "    headers=h\n",
    "    ).json()\n",
    "\n",
    "print(\"Policy actuelle: \", current_policy)\n",
    "\n",
    "# Contruction de la policy avec Inbound = Deny\n",
    "new_policy = current_policy\n",
    "new_policy.setdefault(\"inbound\", {}).setdefault(\"publicAccessRules\", {})[\"defaultAction\"] = target_inbound_value\n",
    "\n",
    "# Application de la policy \n",
    "put_request = requests.put(\n",
    "    f\"https://api.fabric.microsoft.com/v1/workspaces/{WID}/networking/communicationPolicy\", \n",
    "    headers=h,\n",
    "    data=json.dumps(new_policy)\n",
    ")\n",
    "print(\"PUT Status\", put_request.status_code, put_request.text)\n",
    "\n",
    "# Boucle pour attendre la maj\n",
    "for _ in range(4):\n",
    "    time.sleep(1)\n",
    "    test_result = requests.get(\n",
    "        f\"https://api.fabric.microsoft.com/v1/workspaces/{WID}/networking/communicationPolicy\",\n",
    "         headers=h\n",
    "    ).json()\n",
    "    print(\"defaultAction:\", test_result)\n",
    "    if test_result.get(\"inbound\", {}).get(\"publicAccessRules\", {}).get(\"defaultAction\") == target_inbound_value:\n",
    "        break\n",
    "\n"
   ]
  }
 ],
 "metadata": {
  "dependencies": {},
  "kernel_info": {
   "name": "synapse_pyspark"
  },
  "kernelspec": {
   "display_name": "Python 3",
   "language": "python",
   "name": "python3"
  },
  "language_info": {
   "name": "python",
   "version": "3.13.7"
  },
  "microsoft": {
   "language": "python",
   "language_group": "synapse_pyspark",
   "ms_spell_check": {
    "ms_spell_check_language": "en"
   }
  },
  "nteract": {
   "version": "nteract-front-end@1.0.0"
  },
  "spark_compute": {
   "compute_id": "/trident/default",
   "session_options": {
    "conf": {
     "spark.synapse.nbs.session.timeout": "1200000"
    }
   }
  }
 },
 "nbformat": 4,
 "nbformat_minor": 5
}
